{
  "nbformat": 4,
  "nbformat_minor": 0,
  "metadata": {
    "colab": {
      "name": "Conjuntos.ipynb",
      "provenance": [],
      "authorship_tag": "ABX9TyPcH4d2YOIW5w/UWOuDMbnD",
      "include_colab_link": true
    },
    "kernelspec": {
      "name": "python3",
      "display_name": "Python 3"
    }
  },
  "cells": [
    {
      "cell_type": "markdown",
      "metadata": {
        "id": "view-in-github",
        "colab_type": "text"
      },
      "source": [
        "<a href=\"https://colab.research.google.com/github/douglaseaf15/Python/blob/master/Conjuntos.ipynb\" target=\"_parent\"><img src=\"https://colab.research.google.com/assets/colab-badge.svg\" alt=\"Open In Colab\"/></a>"
      ]
    },
    {
      "cell_type": "markdown",
      "metadata": {
        "id": "niThTttT3gRm",
        "colab_type": "text"
      },
      "source": [
        "# Sets"
      ]
    },
    {
      "cell_type": "code",
      "metadata": {
        "id": "IHc1tDKGygbc",
        "colab_type": "code",
        "colab": {}
      },
      "source": [
        "# create an empty set\n",
        "empty_set = set()\n"
      ],
      "execution_count": 0,
      "outputs": []
    },
    {
      "cell_type": "code",
      "metadata": {
        "id": "w5bof9sE_w_V",
        "colab_type": "code",
        "colab": {}
      },
      "source": [
        "# create a set\n",
        "languages = {'python', 'r', 'java'} # create a set directly\n",
        "snakes = set(['cobra', 'viper', 'python']) # create a set from a list"
      ],
      "execution_count": 0,
      "outputs": []
    },
    {
      "cell_type": "markdown",
      "metadata": {
        "id": "W31tab3x_4Ve",
        "colab_type": "text"
      },
      "source": [
        "# examine a set\n"
      ]
    },
    {
      "cell_type": "code",
      "metadata": {
        "id": "2CPWkO21_9cS",
        "colab_type": "code",
        "colab": {
          "base_uri": "https://localhost:8080/",
          "height": 34
        },
        "outputId": "ace8d48f-a9e1-4ba3-ad9f-79334d529536"
      },
      "source": [
        "len(languages) # returns 3\n"
      ],
      "execution_count": 3,
      "outputs": [
        {
          "output_type": "execute_result",
          "data": {
            "text/plain": [
              "3"
            ]
          },
          "metadata": {
            "tags": []
          },
          "execution_count": 3
        }
      ]
    },
    {
      "cell_type": "code",
      "metadata": {
        "id": "B6SeYvT5__jZ",
        "colab_type": "code",
        "colab": {
          "base_uri": "https://localhost:8080/",
          "height": 34
        },
        "outputId": "082fddbd-3475-4069-8853-16310ca5e099"
      },
      "source": [
        "'python' in languages # returns True\n"
      ],
      "execution_count": 4,
      "outputs": [
        {
          "output_type": "execute_result",
          "data": {
            "text/plain": [
              "True"
            ]
          },
          "metadata": {
            "tags": []
          },
          "execution_count": 4
        }
      ]
    },
    {
      "cell_type": "markdown",
      "metadata": {
        "id": "TL52DWuYAP3L",
        "colab_type": "text"
      },
      "source": [
        "# set operations"
      ]
    },
    {
      "cell_type": "code",
      "metadata": {
        "id": "oG4hfF0qAKZn",
        "colab_type": "code",
        "colab": {
          "base_uri": "https://localhost:8080/",
          "height": 34
        },
        "outputId": "f592113e-05bd-4adb-aef7-7f8b5bbaabf2"
      },
      "source": [
        "languages & snakes # returns intersection: {'python'}\n"
      ],
      "execution_count": 5,
      "outputs": [
        {
          "output_type": "execute_result",
          "data": {
            "text/plain": [
              "{'python'}"
            ]
          },
          "metadata": {
            "tags": []
          },
          "execution_count": 5
        }
      ]
    },
    {
      "cell_type": "code",
      "metadata": {
        "id": "sIPL0U5SAXwA",
        "colab_type": "code",
        "colab": {
          "base_uri": "https://localhost:8080/",
          "height": 34
        },
        "outputId": "72dbe8fc-f409-488f-b7f9-32c1d8f4b2a1"
      },
      "source": [
        "languages | snakes # returns union: {'cobra', 'r', 'java', 'viper', 'python'}\n"
      ],
      "execution_count": 6,
      "outputs": [
        {
          "output_type": "execute_result",
          "data": {
            "text/plain": [
              "{'cobra', 'java', 'python', 'r', 'viper'}"
            ]
          },
          "metadata": {
            "tags": []
          },
          "execution_count": 6
        }
      ]
    },
    {
      "cell_type": "code",
      "metadata": {
        "id": "TqkZH2BPAe1U",
        "colab_type": "code",
        "colab": {
          "base_uri": "https://localhost:8080/",
          "height": 34
        },
        "outputId": "a71bfe5d-32ad-4312-98e5-32ce617a55d1"
      },
      "source": [
        "languages - snakes # returns set difference: {'r', 'java'}\n"
      ],
      "execution_count": 7,
      "outputs": [
        {
          "output_type": "execute_result",
          "data": {
            "text/plain": [
              "{'java', 'r'}"
            ]
          },
          "metadata": {
            "tags": []
          },
          "execution_count": 7
        }
      ]
    },
    {
      "cell_type": "code",
      "metadata": {
        "id": "EetjpD2hAqm9",
        "colab_type": "code",
        "colab": {
          "base_uri": "https://localhost:8080/",
          "height": 34
        },
        "outputId": "8d0e3a64-18a6-4a3f-97ba-a986fefda446"
      },
      "source": [
        "snakes - languages # returns set difference: {'cobra', 'viper'}\n"
      ],
      "execution_count": 8,
      "outputs": [
        {
          "output_type": "execute_result",
          "data": {
            "text/plain": [
              "{'cobra', 'viper'}"
            ]
          },
          "metadata": {
            "tags": []
          },
          "execution_count": 8
        }
      ]
    },
    {
      "cell_type": "markdown",
      "metadata": {
        "id": "T3v9dNNpAwcY",
        "colab_type": "text"
      },
      "source": [
        "# modify a set (does not return the set)\n"
      ]
    },
    {
      "cell_type": "code",
      "metadata": {
        "id": "Bic7zH4BAs7I",
        "colab_type": "code",
        "colab": {}
      },
      "source": [
        "languages.add('sql') # add a new element\n"
      ],
      "execution_count": 0,
      "outputs": []
    },
    {
      "cell_type": "code",
      "metadata": {
        "id": "Z6djzAv6A2f4",
        "colab_type": "code",
        "colab": {}
      },
      "source": [
        "languages.add('r') # try to add an existing element (ignored, no error)\n"
      ],
      "execution_count": 0,
      "outputs": []
    },
    {
      "cell_type": "code",
      "metadata": {
        "id": "wgpMZhc6A7QF",
        "colab_type": "code",
        "colab": {}
      },
      "source": [
        "languages.remove('java') # remove an element\n"
      ],
      "execution_count": 0,
      "outputs": []
    },
    {
      "cell_type": "code",
      "metadata": {
        "id": "MjyzrI1nBFwT",
        "colab_type": "code",
        "colab": {
          "base_uri": "https://localhost:8080/",
          "height": 34
        },
        "outputId": "36954fd5-6c1a-4761-e3ff-aff4c070e324"
      },
      "source": [
        "try:\n",
        "  languages.remove('c') # try to remove a non-existing element (throws an˓→error)\n",
        "except KeyError as e:\n",
        "  print(\"Error\", e)\n",
        "  languages.discard('c') # removes an element if present, but ignored otherwise\n",
        "  languages.pop() # removes and returns an arbitrary element\n",
        "  languages.clear() # removes all elements\n",
        "  languages.update('go', 'spark') # add multiple elements (can also pass a list or set)\n",
        "# get a sorted list of unique elements from a list\n",
        "  sorted(set([9, 0, 2, 1, 0])) # returns [0, 1, 2, 9]\n"
      ],
      "execution_count": 19,
      "outputs": [
        {
          "output_type": "stream",
          "text": [
            "Error 'c'\n"
          ],
          "name": "stdout"
        }
      ]
    }
  ]
}