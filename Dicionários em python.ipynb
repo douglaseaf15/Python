{
  "nbformat": 4,
  "nbformat_minor": 0,
  "metadata": {
    "colab": {
      "name": "Untitled2.ipynb",
      "provenance": []
    },
    "kernelspec": {
      "name": "python3",
      "display_name": "Python 3"
    }
  },
  "cells": [
    {
      "cell_type": "markdown",
      "metadata": {
        "id": "fEqm5w76gghJ",
        "colab_type": "text"
      },
      "source": [
        "\n",
        "# Dicionários\n",
        "\n",
        "\n",
        "\n"
      ]
    },
    {
      "cell_type": "markdown",
      "metadata": {
        "id": "lFH3TiydiK7B",
        "colab_type": "text"
      },
      "source": [
        "## create an empty dictionary (two ways)\n",
        "\n"
      ]
    },
    {
      "cell_type": "code",
      "metadata": {
        "id": "7zvGftzXg9zN",
        "colab_type": "code",
        "colab": {}
      },
      "source": [
        "empty_dict = {}\n",
        "\n"
      ],
      "execution_count": 0,
      "outputs": []
    },
    {
      "cell_type": "code",
      "metadata": {
        "id": "UMiMNxggiXUY",
        "colab_type": "code",
        "colab": {}
      },
      "source": [
        "empty_dict = dict()\n"
      ],
      "execution_count": 0,
      "outputs": []
    },
    {
      "cell_type": "markdown",
      "metadata": {
        "id": "Mh9ScB9iie_z",
        "colab_type": "text"
      },
      "source": [
        "# create a dictionary (two ways)"
      ]
    },
    {
      "cell_type": "code",
      "metadata": {
        "id": "IArKfUsmib1y",
        "colab_type": "code",
        "colab": {}
      },
      "source": [
        "family = {'dad':'homer', 'mom':'marge', 'size':6}"
      ],
      "execution_count": 0,
      "outputs": []
    },
    {
      "cell_type": "code",
      "metadata": {
        "id": "lv-LLfaCir63",
        "colab_type": "code",
        "colab": {}
      },
      "source": [
        "family = dict(dad='homer', mom='marge', size=6)\n"
      ],
      "execution_count": 0,
      "outputs": []
    },
    {
      "cell_type": "code",
      "metadata": {
        "id": "9bQ1dTo0iyS7",
        "colab_type": "code",
        "outputId": "428307f4-0073-493d-ea9c-2d9a59d18613",
        "colab": {
          "base_uri": "https://localhost:8080/",
          "height": 34
        }
      },
      "source": [
        "family"
      ],
      "execution_count": 0,
      "outputs": [
        {
          "output_type": "execute_result",
          "data": {
            "text/plain": [
              "{'dad': 'homer', 'mom': 'marge', 'size': 6}"
            ]
          },
          "metadata": {
            "tags": []
          },
          "execution_count": 29
        }
      ]
    },
    {
      "cell_type": "code",
      "metadata": {
        "id": "2V0i47wLi2n-",
        "colab_type": "code",
        "colab": {}
      },
      "source": [
        "# convert a list of tuples into a dictionary\n",
        "list_of_tuples = [('dad','homer'), ('mom','marge'), ('size', 6)]\n"
      ],
      "execution_count": 0,
      "outputs": []
    },
    {
      "cell_type": "code",
      "metadata": {
        "id": "xPzaqFj-jBNP",
        "colab_type": "code",
        "outputId": "7fecaccf-100c-4d5e-eb1a-5627df0315ee",
        "colab": {
          "base_uri": "https://localhost:8080/",
          "height": 34
        }
      },
      "source": [
        "family = dict(list_of_tuples)\n",
        "family"
      ],
      "execution_count": 0,
      "outputs": [
        {
          "output_type": "execute_result",
          "data": {
            "text/plain": [
              "{'dad': 'homer', 'mom': 'marge', 'size': 6}"
            ]
          },
          "metadata": {
            "tags": []
          },
          "execution_count": 31
        }
      ]
    },
    {
      "cell_type": "markdown",
      "metadata": {
        "id": "1VTUoPdYjKTL",
        "colab_type": "text"
      },
      "source": [
        "# examine a dictionary\n"
      ]
    },
    {
      "cell_type": "code",
      "metadata": {
        "id": "TjzjJhL0jLqJ",
        "colab_type": "code",
        "outputId": "d0f06741-d09a-4018-9df8-ba77e9ca5c53",
        "colab": {
          "base_uri": "https://localhost:8080/",
          "height": 34
        }
      },
      "source": [
        "family['dad'] # returns 'homer'"
      ],
      "execution_count": 0,
      "outputs": [
        {
          "output_type": "execute_result",
          "data": {
            "text/plain": [
              "'homer'"
            ]
          },
          "metadata": {
            "tags": []
          },
          "execution_count": 32
        }
      ]
    },
    {
      "cell_type": "code",
      "metadata": {
        "id": "eZ2RXsZ1jSlP",
        "colab_type": "code",
        "outputId": "082c06c0-d5c0-4191-d1f0-2cb1a1a8063b",
        "colab": {
          "base_uri": "https://localhost:8080/",
          "height": 34
        }
      },
      "source": [
        "len(family) # returns 3\n"
      ],
      "execution_count": 0,
      "outputs": [
        {
          "output_type": "execute_result",
          "data": {
            "text/plain": [
              "3"
            ]
          },
          "metadata": {
            "tags": []
          },
          "execution_count": 33
        }
      ]
    },
    {
      "cell_type": "code",
      "metadata": {
        "id": "TAPmvQPqjcH5",
        "colab_type": "code",
        "outputId": "3153f1fc-9211-442e-f329-13e8db712903",
        "colab": {
          "base_uri": "https://localhost:8080/",
          "height": 34
        }
      },
      "source": [
        "family.keys() # returns list: ['dad', 'mom', 'size']\n"
      ],
      "execution_count": 0,
      "outputs": [
        {
          "output_type": "execute_result",
          "data": {
            "text/plain": [
              "dict_keys(['dad', 'mom', 'size'])"
            ]
          },
          "metadata": {
            "tags": []
          },
          "execution_count": 34
        }
      ]
    },
    {
      "cell_type": "code",
      "metadata": {
        "id": "bAYi5dwCjkNE",
        "colab_type": "code",
        "outputId": "d451c6dd-73e8-439e-b389-528d10c16ce9",
        "colab": {
          "base_uri": "https://localhost:8080/",
          "height": 34
        }
      },
      "source": [
        "family.values() # returns list: ['homer', 'marge', 6]\n"
      ],
      "execution_count": 0,
      "outputs": [
        {
          "output_type": "execute_result",
          "data": {
            "text/plain": [
              "dict_values(['homer', 'marge', 6])"
            ]
          },
          "metadata": {
            "tags": []
          },
          "execution_count": 35
        }
      ]
    },
    {
      "cell_type": "code",
      "metadata": {
        "id": "Mc486-10jl5V",
        "colab_type": "code",
        "outputId": "064c0a03-f796-453f-e5ef-69aceac50459",
        "colab": {
          "base_uri": "https://localhost:8080/",
          "height": 34
        }
      },
      "source": [
        "family.items() # returns list of tuples:\n"
      ],
      "execution_count": 0,
      "outputs": [
        {
          "output_type": "execute_result",
          "data": {
            "text/plain": [
              "dict_items([('dad', 'homer'), ('mom', 'marge'), ('size', 6)])"
            ]
          },
          "metadata": {
            "tags": []
          },
          "execution_count": 36
        }
      ]
    },
    {
      "cell_type": "code",
      "metadata": {
        "id": "u05y80WGjqlx",
        "colab_type": "code",
        "outputId": "6f281c07-e021-4039-8d8f-9ea8b328eb9e",
        "colab": {
          "base_uri": "https://localhost:8080/",
          "height": 34
        }
      },
      "source": [
        "'mom' in family # returns True\n"
      ],
      "execution_count": 0,
      "outputs": [
        {
          "output_type": "execute_result",
          "data": {
            "text/plain": [
              "True"
            ]
          },
          "metadata": {
            "tags": []
          },
          "execution_count": 37
        }
      ]
    },
    {
      "cell_type": "code",
      "metadata": {
        "id": "txIRFGYwjuj5",
        "colab_type": "code",
        "outputId": "1cc5c76c-8a2e-4dc1-dadd-2d9444b053de",
        "colab": {
          "base_uri": "https://localhost:8080/",
          "height": 34
        }
      },
      "source": [
        "'marge' in family # returns False (only checks keys)\n"
      ],
      "execution_count": 0,
      "outputs": [
        {
          "output_type": "execute_result",
          "data": {
            "text/plain": [
              "False"
            ]
          },
          "metadata": {
            "tags": []
          },
          "execution_count": 38
        }
      ]
    },
    {
      "cell_type": "markdown",
      "metadata": {
        "id": "JhEzxR2jj2XQ",
        "colab_type": "text"
      },
      "source": [
        "# modify a dictionary (does not return the dictionary)\n"
      ]
    },
    {
      "cell_type": "code",
      "metadata": {
        "id": "oYn41rl-j0Rc",
        "colab_type": "code",
        "outputId": "b69d3f74-7774-4bb4-cf8e-188187fba30f",
        "colab": {
          "base_uri": "https://localhost:8080/",
          "height": 34
        }
      },
      "source": [
        "family['cat'] = 'snowball' # add a new entry\n",
        "family"
      ],
      "execution_count": 0,
      "outputs": [
        {
          "output_type": "execute_result",
          "data": {
            "text/plain": [
              "{'cat': 'snowball', 'dad': 'homer', 'mom': 'marge', 'size': 6}"
            ]
          },
          "metadata": {
            "tags": []
          },
          "execution_count": 39
        }
      ]
    },
    {
      "cell_type": "code",
      "metadata": {
        "id": "kUCc0HPpkB1P",
        "colab_type": "code",
        "outputId": "9765a76e-9665-49b7-d182-f0e98ecdcb69",
        "colab": {
          "base_uri": "https://localhost:8080/",
          "height": 34
        }
      },
      "source": [
        "family['cat'] = 'snowball ii' # edit an existing entry\n",
        "family"
      ],
      "execution_count": 0,
      "outputs": [
        {
          "output_type": "execute_result",
          "data": {
            "text/plain": [
              "{'cat': 'snowball ii', 'dad': 'homer', 'mom': 'marge', 'size': 6}"
            ]
          },
          "metadata": {
            "tags": []
          },
          "execution_count": 40
        }
      ]
    },
    {
      "cell_type": "code",
      "metadata": {
        "id": "z4c-lMwokIWk",
        "colab_type": "code",
        "outputId": "82cd2d19-0c77-4437-8ae1-3ab2198df5dc",
        "colab": {
          "base_uri": "https://localhost:8080/",
          "height": 34
        }
      },
      "source": [
        "del family['cat'] # delete an entry\n",
        "family"
      ],
      "execution_count": 0,
      "outputs": [
        {
          "output_type": "execute_result",
          "data": {
            "text/plain": [
              "{'dad': 'homer', 'mom': 'marge', 'size': 6}"
            ]
          },
          "metadata": {
            "tags": []
          },
          "execution_count": 41
        }
      ]
    },
    {
      "cell_type": "code",
      "metadata": {
        "id": "OH4566xekOG7",
        "colab_type": "code",
        "outputId": "98041a7d-f197-484e-ef05-a7a5c51de3f5",
        "colab": {
          "base_uri": "https://localhost:8080/",
          "height": 34
        }
      },
      "source": [
        "family['kids'] = ['bart', 'lisa'] # value can be a list\n",
        "family"
      ],
      "execution_count": 0,
      "outputs": [
        {
          "output_type": "execute_result",
          "data": {
            "text/plain": [
              "{'dad': 'homer', 'kids': ['bart', 'lisa'], 'mom': 'marge', 'size': 6}"
            ]
          },
          "metadata": {
            "tags": []
          },
          "execution_count": 42
        }
      ]
    },
    {
      "cell_type": "code",
      "metadata": {
        "id": "65fA_Z54kYc4",
        "colab_type": "code",
        "outputId": "1fcdd69c-043c-4c08-d9f7-5df7ec28b7a1",
        "colab": {
          "base_uri": "https://localhost:8080/",
          "height": 34
        }
      },
      "source": [
        "family.pop('dad') # removes an entry and returns the value (\n",
        "family"
      ],
      "execution_count": 0,
      "outputs": [
        {
          "output_type": "execute_result",
          "data": {
            "text/plain": [
              "{'kids': ['bart', 'lisa'], 'mom': 'marge', 'size': 6}"
            ]
          },
          "metadata": {
            "tags": []
          },
          "execution_count": 43
        }
      ]
    },
    {
      "cell_type": "code",
      "metadata": {
        "id": "INFm8wNBknFK",
        "colab_type": "code",
        "outputId": "4238a016-9485-4d4d-acc1-f0aaaa17a739",
        "colab": {
          "base_uri": "https://localhost:8080/",
          "height": 102
        }
      },
      "source": [
        "family.update({'baby':'maggie', 'grandpa':'abe'}) # add multiple entries\n",
        "family"
      ],
      "execution_count": 0,
      "outputs": [
        {
          "output_type": "execute_result",
          "data": {
            "text/plain": [
              "{'baby': 'maggie',\n",
              " 'grandpa': 'abe',\n",
              " 'kids': ['bart', 'lisa'],\n",
              " 'mom': 'marge',\n",
              " 'size': 6}"
            ]
          },
          "metadata": {
            "tags": []
          },
          "execution_count": 44
        }
      ]
    },
    {
      "cell_type": "markdown",
      "metadata": {
        "id": "EhfTryCZkxQX",
        "colab_type": "text"
      },
      "source": [
        "# accessing values more safely with 'get'\n",
        "\n",
        "\n"
      ]
    },
    {
      "cell_type": "code",
      "metadata": {
        "id": "vfPytReDkveY",
        "colab_type": "code",
        "outputId": "a8182b7c-7b0a-41e1-a6c4-68df3a2ba79b",
        "colab": {
          "base_uri": "https://localhost:8080/",
          "height": 34
        }
      },
      "source": [
        "family['mom'] # returns 'marge'\n"
      ],
      "execution_count": 0,
      "outputs": [
        {
          "output_type": "execute_result",
          "data": {
            "text/plain": [
              "'marge'"
            ]
          },
          "metadata": {
            "tags": []
          },
          "execution_count": 45
        }
      ]
    },
    {
      "cell_type": "code",
      "metadata": {
        "id": "bmqObV2qk46h",
        "colab_type": "code",
        "outputId": "ffdd38ab-192c-4908-91ae-49fff3bf0f19",
        "colab": {
          "base_uri": "https://localhost:8080/",
          "height": 34
        }
      },
      "source": [
        "family.get('mom') # same thing\n"
      ],
      "execution_count": 0,
      "outputs": [
        {
          "output_type": "execute_result",
          "data": {
            "text/plain": [
              "'marge'"
            ]
          },
          "metadata": {
            "tags": []
          },
          "execution_count": 46
        }
      ]
    },
    {
      "cell_type": "code",
      "metadata": {
        "id": "cPeIg_7Zk8xf",
        "colab_type": "code",
        "outputId": "b41ecea7-e504-4fff-b394-6ac00d6a53bd",
        "colab": {
          "base_uri": "https://localhost:8080/",
          "height": 34
        }
      },
      "source": [
        "try:\n",
        "  family['grandma'] # throws an error\n",
        "except KeyError as e:\n",
        "  print(\"Error\", e)\n"
      ],
      "execution_count": 0,
      "outputs": [
        {
          "output_type": "stream",
          "text": [
            "Error 'grandma'\n"
          ],
          "name": "stdout"
        }
      ]
    },
    {
      "cell_type": "code",
      "metadata": {
        "id": "Px_q_Nd8lOPT",
        "colab_type": "code",
        "colab": {}
      },
      "source": [
        "family.get('grandma') # returns None"
      ],
      "execution_count": 0,
      "outputs": []
    },
    {
      "cell_type": "code",
      "metadata": {
        "id": "PIV5xclnlR6P",
        "colab_type": "code",
        "outputId": "52a9ef7a-ceee-4c64-c007-60dadfeab038",
        "colab": {
          "base_uri": "https://localhost:8080/",
          "height": 34
        }
      },
      "source": [
        "family.get('grandma', 'not found') # returns 'not found' (the default)\n"
      ],
      "execution_count": 0,
      "outputs": [
        {
          "output_type": "execute_result",
          "data": {
            "text/plain": [
              "'not found'"
            ]
          },
          "metadata": {
            "tags": []
          },
          "execution_count": 51
        }
      ]
    },
    {
      "cell_type": "markdown",
      "metadata": {
        "id": "W2vo8caalX5z",
        "colab_type": "text"
      },
      "source": [
        "# accessing a list element within a dictionary\n"
      ]
    },
    {
      "cell_type": "code",
      "metadata": {
        "id": "xwisA5KalY0w",
        "colab_type": "code",
        "outputId": "4c4aa662-da22-43b7-85fc-c69d3106ef51",
        "colab": {
          "base_uri": "https://localhost:8080/",
          "height": 34
        }
      },
      "source": [
        "family['kids'][0] # returns 'bart'\n"
      ],
      "execution_count": 0,
      "outputs": [
        {
          "output_type": "execute_result",
          "data": {
            "text/plain": [
              "'bart'"
            ]
          },
          "metadata": {
            "tags": []
          },
          "execution_count": 52
        }
      ]
    },
    {
      "cell_type": "code",
      "metadata": {
        "id": "lkEOJpTOlha4",
        "colab_type": "code",
        "colab": {}
      },
      "source": [
        "family['kids'].remove('lisa') # removes 'lisa'\n"
      ],
      "execution_count": 0,
      "outputs": []
    },
    {
      "cell_type": "code",
      "metadata": {
        "id": "m0ViCmL2liU8",
        "colab_type": "code",
        "outputId": "a4e36438-5986-4e31-ea14-ec7b93500c55",
        "colab": {
          "base_uri": "https://localhost:8080/",
          "height": 34
        }
      },
      "source": [
        "# string substitution using a dictionary\n",
        "'youngest child is %(baby)s' % family # returns 'youngest child is maggie'"
      ],
      "execution_count": 0,
      "outputs": [
        {
          "output_type": "execute_result",
          "data": {
            "text/plain": [
              "'youngest child is maggie'"
            ]
          },
          "metadata": {
            "tags": []
          },
          "execution_count": 53
        }
      ]
    }
  ]
}