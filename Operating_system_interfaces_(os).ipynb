{
  "nbformat": 4,
  "nbformat_minor": 0,
  "metadata": {
    "colab": {
      "name": "Operating system interfaces (os).ipynb",
      "provenance": [],
      "authorship_tag": "ABX9TyMUco3ZuuXRQoZTjn2REEHq",
      "include_colab_link": true
    },
    "kernelspec": {
      "name": "python3",
      "display_name": "Python 3"
    }
  },
  "cells": [
    {
      "cell_type": "markdown",
      "metadata": {
        "id": "view-in-github",
        "colab_type": "text"
      },
      "source": [
        "<a href=\"https://colab.research.google.com/github/douglaseaf15/Python/blob/master/Operating_system_interfaces_(os).ipynb\" target=\"_parent\"><img src=\"https://colab.research.google.com/assets/colab-badge.svg\" alt=\"Open In Colab\"/></a>"
      ]
    },
    {
      "cell_type": "markdown",
      "metadata": {
        "id": "QncjdNN3v9YI",
        "colab_type": "text"
      },
      "source": [
        " # Operating system interfaces (os)"
      ]
    },
    {
      "cell_type": "code",
      "metadata": {
        "id": "5WTwtN7I0UHp",
        "colab_type": "code",
        "colab": {}
      },
      "source": [
        "import os\n"
      ],
      "execution_count": 0,
      "outputs": []
    },
    {
      "cell_type": "code",
      "metadata": {
        "id": "sYjuc7evwFpi",
        "colab_type": "code",
        "colab": {
          "base_uri": "https://localhost:8080/",
          "height": 34
        },
        "outputId": "8cb8c17c-bca1-483a-e66d-c4fe54bd4b12"
      },
      "source": [
        "# Get the current working directory\n",
        "cwd = os.getcwd()\n",
        "print(cwd)"
      ],
      "execution_count": 2,
      "outputs": [
        {
          "output_type": "stream",
          "text": [
            "/content\n"
          ],
          "name": "stdout"
        }
      ]
    },
    {
      "cell_type": "code",
      "metadata": {
        "id": "qFo0Um3DwRrB",
        "colab_type": "code",
        "colab": {}
      },
      "source": [
        "# Set the current working directory\n",
        "os.chdir(cwd)\n"
      ],
      "execution_count": 0,
      "outputs": []
    },
    {
      "cell_type": "code",
      "metadata": {
        "id": "22FKtNgiwdi1",
        "colab_type": "code",
        "colab": {}
      },
      "source": [
        "import tempfile\n",
        "tmpdir = tempfile.gettempdir()\n"
      ],
      "execution_count": 0,
      "outputs": []
    },
    {
      "cell_type": "code",
      "metadata": {
        "id": "e8VzhNpMwkt6",
        "colab_type": "code",
        "colab": {
          "base_uri": "https://localhost:8080/",
          "height": 34
        },
        "outputId": "60f4db06-478e-441a-aacd-44f7485979c8"
      },
      "source": [
        "mytmpdir = os.path.join(tmpdir, \"foobar\")\n",
        "# list containing the names of the entries in the directory given by path.\n",
        "os.listdir(tmpdir)"
      ],
      "execution_count": 5,
      "outputs": [
        {
          "output_type": "execute_result",
          "data": {
            "text/plain": [
              "[]"
            ]
          },
          "metadata": {
            "tags": []
          },
          "execution_count": 5
        }
      ]
    },
    {
      "cell_type": "code",
      "metadata": {
        "id": "Rq14rAh9wmwe",
        "colab_type": "code",
        "colab": {}
      },
      "source": [
        "if not os.path.exists(mytmpdir):\n",
        "  os.mkdir(mytmpdir)\n",
        "  os.makedirs(os.path.join(tmpdir, \"foobar\", \"plop\", \"toto\"), exist_ok=True)"
      ],
      "execution_count": 0,
      "outputs": []
    }
  ]
}