{
  "nbformat": 4,
  "nbformat_minor": 0,
  "metadata": {
    "colab": {
      "name": "control statements.ipynb",
      "provenance": [],
      "authorship_tag": "ABX9TyPGszQxDqJCp2hwHjtdIaaB",
      "include_colab_link": true
    },
    "kernelspec": {
      "name": "python3",
      "display_name": "Python 3"
    }
  },
  "cells": [
    {
      "cell_type": "markdown",
      "metadata": {
        "id": "view-in-github",
        "colab_type": "text"
      },
      "source": [
        "<a href=\"https://colab.research.google.com/github/douglaseaf15/Python/blob/master/control_statements.ipynb\" target=\"_parent\"><img src=\"https://colab.research.google.com/assets/colab-badge.svg\" alt=\"Open In Colab\"/></a>"
      ]
    },
    {
      "cell_type": "code",
      "metadata": {
        "id": "V5tfTj_FzS1y",
        "colab_type": "code",
        "colab": {
          "base_uri": "https://localhost:8080/",
          "height": 100
        },
        "outputId": "ae5cc386-5cb4-4f0a-8598-9170387f9910"
      },
      "source": [
        "x = 3\n",
        "# if statement\n",
        "if x > 0:\n",
        "  print('positive')\n",
        "# if/else statement\n",
        "if x > 0:\n",
        "  print('positive')\n",
        "else:\n",
        "  print('zero or negative')\n",
        "# if/elif/else statement\n",
        "if x > 0:\n",
        "  print('positive')\n",
        "elif x == 0:\n",
        "  print('zero')\n",
        "else:\n",
        "  print('negative')\n",
        "# single-line if statement (sometimes discouraged)\n",
        "if x > 0: print('positive')\n",
        "# single-line if/else statement (sometimes discouraged)\n",
        "# known as a 'ternary operator'\n",
        "'positive' if x > 0 else 'zero or negative'"
      ],
      "execution_count": 3,
      "outputs": [
        {
          "output_type": "stream",
          "text": [
            "positive\n",
            "positive\n",
            "positive\n",
            "positive\n"
          ],
          "name": "stdout"
        },
        {
          "output_type": "execute_result",
          "data": {
            "text/plain": [
              "'positive'"
            ]
          },
          "metadata": {
            "tags": []
          },
          "execution_count": 3
        }
      ]
    }
  ]
}