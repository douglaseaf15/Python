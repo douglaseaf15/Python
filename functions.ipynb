{
  "nbformat": 4,
  "nbformat_minor": 0,
  "metadata": {
    "colab": {
      "name": "functions.ipynb",
      "provenance": [],
      "authorship_tag": "ABX9TyN6nV8Uwjh622qHuamvSl/+",
      "include_colab_link": true
    },
    "kernelspec": {
      "name": "python3",
      "display_name": "Python 3"
    }
  },
  "cells": [
    {
      "cell_type": "markdown",
      "metadata": {
        "id": "view-in-github",
        "colab_type": "text"
      },
      "source": [
        "<a href=\"https://colab.research.google.com/github/douglaseaf15/Python/blob/master/functions.ipynb\" target=\"_parent\"><img src=\"https://colab.research.google.com/assets/colab-badge.svg\" alt=\"Open In Colab\"/></a>"
      ]
    },
    {
      "cell_type": "code",
      "metadata": {
        "id": "siSLWD2BzjFV",
        "colab_type": "code",
        "colab": {
          "base_uri": "https://localhost:8080/",
          "height": 34
        },
        "outputId": "fa660ea1-d1da-4db1-f0a1-7ce2c4450d4c"
      },
      "source": [
        "# define a function with no arguments and no return values\n",
        "def print_text():\n",
        "  print('this is text')\n",
        "# call the function\n",
        "print_text()\n",
        "# define a function with one argument and no return values\n",
        "def print_this(x):\n",
        "  print(x)\n",
        "# call the function\n",
        "  print_this(3) # prints 3\n",
        "  n = print_this(3) # prints 3, but doesn't assign 3 to n\n",
        "# because the function has no return statement\n",
        "# define a function with one argument and one return value\n",
        "def square_this(x):\n",
        "  return x ** 2\n",
        "# include an optional docstring to describe the effect of a function\n",
        "def square_this(x):\n",
        "  \"\"\"Return the square of a number.\"\"\"\n",
        "  return x ** 2\n",
        "# call the function\n",
        "square_this(3) # prints 9\n",
        "var = square_this(3) # assigns 9 to var, but does not print 9\n",
        "# default arguments\n",
        "def power_this(x, power=2):\n",
        "  return x ** power\n",
        "power_this(2) # 4\n",
        "power_this(2, 3) # 8\n",
        "# use 'pass' as a placeholder if you haven't written the function body\n",
        "def stub():\n",
        "  pass\n",
        "# return two values from a single function\n",
        "def min_max(nums):\n",
        "  return min(nums), max(nums)\n",
        "# return values can be assigned to a single variable as a tuple\n",
        "nums = [1, 2, 3]\n",
        "min_max_num = min_max(nums) # min_max_num = (1, 3)\n",
        "# return values can be assigned into multiple variables using tuple unpacking\n",
        "min_num, max_num = min_max(nums) # min_num = 1, max_num = 3"
      ],
      "execution_count": 4,
      "outputs": [
        {
          "output_type": "stream",
          "text": [
            "this is text\n"
          ],
          "name": "stdout"
        }
      ]
    }
  ]
}